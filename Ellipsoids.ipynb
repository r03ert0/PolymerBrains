{
 "cells": [
  {
   "cell_type": "markdown",
   "metadata": {},
   "source": [
    "#Ellipsoid foundary\n",
    "This is code to produce ellipsoids to test polymer folding on a simple geometries. The code starts from a sphere which is scaled to have specific a, b, c parametres:\n",
    "\n",
    "$\\frac {x^2} {a^2} + \\frac {y^2} {b^2} + \\frac {z^2} {c^2} = 1$.\n",
    "\n",
    "To make the sphere, I started with an icosahedron (42 vertices), and applied the Sqrt(3) subdivision algorithm a few times. The subdivided sphere has 9722 vertices with a pretty good valence. The vertices after Sqrt(3) subdivision are not exactly over the sphere, so I normalised them. I used meshgeometry to produce the sphere, using the following command:\n",
    "\n",
    "    ./meshgeometry_mac -i ico.ply -subdivide -subdivide -subdivide -subdivide -subdivide -normalise -verts -scale 0.00620463 -volume -o sphere.ply\n",
    "\n",
    "The following code opens and saves PLY meshes.\n",
    "\n",
    "result can be saved in PLY or STL formats. The code is generic, and if a mesh other than a sphere is loaded, it could allow to test the effect of x, y, z scaling on folding."
   ]
  },
  {
   "cell_type": "code",
   "execution_count": 1,
   "metadata": {
    "collapsed": false
   },
   "outputs": [
    {
     "name": "stdout",
     "output_type": "stream",
     "text": [
      "Populating the interactive namespace from numpy and matplotlib\n"
     ]
    }
   ],
   "source": [
    "%pylab inline\n",
    "import numpy\n",
    "import pylab"
   ]
  },
  {
   "cell_type": "code",
   "execution_count": 2,
   "metadata": {
    "collapsed": false
   },
   "outputs": [],
   "source": [
    "# Open mesh in ply format\n",
    "def open_ply(filepath):\n",
    "    f=open(filepath,'r');\n",
    "    i=0;\n",
    "    ip=0;\n",
    "    it=0;\n",
    "    np=0;\n",
    "    nt=0;\n",
    "    for str in f:\n",
    "        i+=1;\n",
    "        arr=str.split(\" \");\n",
    "        if(arr[0]==\"element\" and arr[1]==\"vertex\"):\n",
    "            np=int(arr[2]);\n",
    "            p=numpy.zeros((np,3));\n",
    "        elif(arr[0]==\"element\" and arr[1]==\"face\"):\n",
    "            nt=int(arr[2]);\n",
    "            t=numpy.zeros((nt,3));\n",
    "        elif(i>=11 and i<11+np):\n",
    "            p[ip,0]=float(arr[0]);\n",
    "            p[ip,1]=float(arr[1]);\n",
    "            p[ip,2]=float(arr[2]);\n",
    "            ip+=1;\n",
    "        elif(i>=11+np and i<11+np+nt):\n",
    "            t[it,0]=int(arr[1]);\n",
    "            t[it,1]=int(arr[2]);\n",
    "            t[it,2]=int(arr[3]);\n",
    "            it+=1;\n",
    "    mesh={};\n",
    "    mesh[\"np\"]=np;\n",
    "    mesh[\"nt\"]=nt;\n",
    "    mesh[\"p\"]=p;\n",
    "    mesh[\"t\"]=t;\n",
    "    return mesh;\n",
    "\n",
    "# Save mesh in ply format\n",
    "def save_ply(mesh,filepath):\n",
    "    p=mesh[\"p\"];\n",
    "    t=mesh[\"t\"];\n",
    "    np=mesh[\"np\"];\n",
    "    nt=mesh[\"nt\"];\n",
    "    f=open(filepath,'w');\n",
    "    f.write(\"%i 1\\n\"%np);\n",
    "    f.write(\"ply\\n\");\n",
    "    f.write(\"format ascii 1.0\\n\");\n",
    "    f.write(\"comment ipython ferret, R. Toro 2015\\n\");\n",
    "    f.write(\"element vertex %i\\n\"%np);\n",
    "    f.write(\"property float x\\n\");\n",
    "    f.write(\"property float y\\n\");\n",
    "    f.write(\"property float z\\n\");\n",
    "    f.write(\"element face %i\\n\"%nt);\n",
    "    f.write(\"property list uchar int vertex_indices\\n\");\n",
    "    f.write(\"end_header\\n\");\n",
    "    for i in range(0,np):\n",
    "        f.write(\"%f %f %f\\n\"%(p[i,0],p[i,1],p[i,2]));\n",
    "    for i in range(0,nt):\n",
    "        f.write(\"3 %i %i %i\\n\"%(t[i,0],t[i,1],t[i,2]));\n",
    "    f.close();\n",
    "\n",
    "# Triangle normal\n",
    "# Normal of triangle a,b,c\n",
    "def normal(a,b,c):\n",
    "    v=numpy.cross(b-a,c-a)\n",
    "    n=v/numpy.linalg.norm(v)\n",
    "    return n;\n",
    "\n",
    "# Save mesh in stl format\n",
    "def save_stl(mesh,filepath):\n",
    "    p=mesh[\"p\"];\n",
    "    t=mesh[\"t\"];\n",
    "    np=mesh[\"np\"];\n",
    "    nt=mesh[\"nt\"];\n",
    "    \n",
    "    f=open(filepath,'w');\n",
    "    f.write(\"solid mySolid\\n\");\n",
    "    for i in range(0,nt):\n",
    "        n=normal(p[t[i,0]],p[t[i,1]],p[t[i,2]]);\n",
    "        f.write(\"facet normal %g %g %g\\n\"%(n[0],n[1],n[2]));\n",
    "        f.write(\"outer loop\\n\");\n",
    "        f.write(\"vertex %g %g %g\\n\"%(p[t[i,0],0],p[t[i,0],1],p[t[i,0],2]));\n",
    "        f.write(\"vertex %g %g %g\\n\"%(p[t[i,1],0],p[t[i,1],1],p[t[i,1],2]));\n",
    "        f.write(\"vertex %g %g %g\\n\"%(p[t[i,2],0],p[t[i,2],1],p[t[i,2],2]));\n",
    "        f.write(\"endLoop\\n\");\n",
    "        f.write(\"endFacet\\n\");\n",
    "    f.write(\"endSolid mySolid\\n\");\n",
    "    f.close();\n"
   ]
  },
  {
   "cell_type": "code",
   "execution_count": 3,
   "metadata": {
    "collapsed": false
   },
   "outputs": [],
   "source": [
    "# Scale the x, y and z axis of a mesh by a, b and c factors\n",
    "def scale_mesh(mesh,a,b,c):\n",
    "    np=mesh[\"np\"];\n",
    "    nt=mesh[\"nt\"];\n",
    "    t=mesh[\"t\"];\n",
    "    p0=mesh[\"p\"];\n",
    "\n",
    "    newMesh={};\n",
    "    newMesh[\"np\"]=np;\n",
    "    newMesh[\"nt\"]=nt;\n",
    "    newMesh[\"p\"]=numpy.zeros((np,3));\n",
    "    newMesh[\"t\"]=t; # copy the triangles (because the topology does not change)\n",
    "    p1=newMesh[\"p\"];\n",
    "    \n",
    "    for i in range(0,np):\n",
    "        p1[i,0]=a*p0[i,0];\n",
    "        p1[i,1]=b*p0[i,1];\n",
    "        p1[i,2]=c*p0[i,2];\n",
    "\n",
    "    return newMesh;"
   ]
  },
  {
   "cell_type": "code",
   "execution_count": 5,
   "metadata": {
    "collapsed": false
   },
   "outputs": [
    {
     "name": "stdout",
     "output_type": "stream",
     "text": [
      "vertices: 9722\n",
      "triangles: 19440\n"
     ]
    }
   ],
   "source": [
    "# Load the sphere\n",
    "sphere=open_ply(\"sphere.ply\");\n",
    "print(\"vertices: %i\"%sphere[\"np\"]);\n",
    "print(\"triangles: %i\"%sphere[\"nt\"]);\n",
    "\n",
    "# Test: scale a single sphere\n",
    "# ellip=scale_mesh(sphere,1,2,3);\n",
    "# save_ply(ellip,\"ellip.ply\");\n",
    "\n",
    "# Produce ellipsoids with a=1, b=0.8:0.1:1.2 and c=b:0.1:1.2\n",
    "a=1;\n",
    "for b in frange(0.8,1.2,0.1):\n",
    "    for c in frange(b,1.2,0.1):\n",
    "        ellip=scale_mesh(sphere,a,b,c);\n",
    "\n",
    "        # Save in STL\n",
    "        fileName=\"ellipsoids/ellip.a%g_b%g_c%g.stl\"%(a,b,c);\n",
    "        save_stl(ellip,fileName);\n",
    "        \n",
    "        #Save in PLY\n",
    "        #fileName=\"ellipsoids/ellip.a%g_b%g_c%g.ply\"%(a,b,c);\n",
    "        #save_ply(ellip,fileName);\n"
   ]
  },
  {
   "cell_type": "code",
   "execution_count": null,
   "metadata": {
    "collapsed": true
   },
   "outputs": [],
   "source": []
  }
 ],
 "metadata": {
  "kernelspec": {
   "display_name": "Python 2",
   "language": "python",
   "name": "python2"
  },
  "language_info": {
   "codemirror_mode": {
    "name": "ipython",
    "version": 2
   },
   "file_extension": ".py",
   "mimetype": "text/x-python",
   "name": "python",
   "nbconvert_exporter": "python",
   "pygments_lexer": "ipython2",
   "version": "2.7.3"
  }
 },
 "nbformat": 4,
 "nbformat_minor": 0
}
